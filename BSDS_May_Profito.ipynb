{
 "cells": [
  {
   "cell_type": "code",
   "execution_count": 1,
   "metadata": {
    "executionInfo": {
     "elapsed": 1829,
     "status": "ok",
     "timestamp": 1620463369304,
     "user": {
      "displayName": "Edoardo Botta",
      "photoUrl": "https://lh5.googleusercontent.com/-UojDHXmDI1A/AAAAAAAAAAI/AAAAAAAACtA/5WZY-iLk_YI/s64/photo.jpg",
      "userId": "07927463463192486003"
     },
     "user_tz": -120
    },
    "id": "M5PxJBut7AbI"
   },
   "outputs": [],
   "source": [
    "import datetime\n",
    "import pandas as pd\n",
    "import numpy as np\n",
    "import seaborn as sns\n",
    "import matplotlib.pyplot as plt\n",
    "from sklearn.metrics import mean_squared_error\n",
    "from sklearn.model_selection import RandomizedSearchCV, cross_val_score, train_test_split, KFold\n",
    "from sklearn.linear_model import LinearRegression, ElasticNetCV\n",
    "from sklearn.ensemble import RandomForestRegressor, VotingRegressor, StackingRegressor\n",
    "from xgboost import XGBRegressor"
   ]
  },
  {
   "cell_type": "code",
   "execution_count": 2,
   "metadata": {
    "colab": {
     "base_uri": "https://localhost:8080/"
    },
    "executionInfo": {
     "elapsed": 17696,
     "status": "ok",
     "timestamp": 1620463387968,
     "user": {
      "displayName": "Edoardo Botta",
      "photoUrl": "https://lh5.googleusercontent.com/-UojDHXmDI1A/AAAAAAAAAAI/AAAAAAAACtA/5WZY-iLk_YI/s64/photo.jpg",
      "userId": "07927463463192486003"
     },
     "user_tz": -120
    },
    "id": "BC3ppR5I8B7g",
    "outputId": "8e207453-f282-43f9-cfb9-0b365292fa71"
   },
   "outputs": [
    {
     "name": "stdout",
     "output_type": "stream",
     "text": [
      "Mounted at /content/drive\n"
     ]
    }
   ],
   "source": [
    "from google.colab import drive\n",
    "drive.mount('/content/drive')"
   ]
  },
  {
   "cell_type": "code",
   "execution_count": 3,
   "metadata": {
    "executionInfo": {
     "elapsed": 681,
     "status": "ok",
     "timestamp": 1620463388672,
     "user": {
      "displayName": "Edoardo Botta",
      "photoUrl": "https://lh5.googleusercontent.com/-UojDHXmDI1A/AAAAAAAAAAI/AAAAAAAACtA/5WZY-iLk_YI/s64/photo.jpg",
      "userId": "07927463463192486003"
     },
     "user_tz": -120
    },
    "id": "41-7sURQ8IAZ"
   },
   "outputs": [],
   "source": [
    "import os\n",
    "os.chdir('/content/drive/MyDrive/bsds_challenge')"
   ]
  },
  {
   "cell_type": "code",
   "execution_count": 4,
   "metadata": {
    "executionInfo": {
     "elapsed": 508,
     "status": "ok",
     "timestamp": 1620464821548,
     "user": {
      "displayName": "Edoardo Botta",
      "photoUrl": "https://lh5.googleusercontent.com/-UojDHXmDI1A/AAAAAAAAAAI/AAAAAAAACtA/5WZY-iLk_YI/s64/photo.jpg",
      "userId": "07927463463192486003"
     },
     "user_tz": -120
    },
    "id": "wlljCp5z7AbX"
   },
   "outputs": [],
   "source": [
    "train = pd.read_csv('train_set.csv')\n",
    "test = pd.read_csv('test_set.csv')"
   ]
  },
  {
   "cell_type": "markdown",
   "metadata": {
    "id": "OWQfhmG1HOmn"
   },
   "source": [
    "# Data Exploration"
   ]
  },
  {
   "cell_type": "code",
   "execution_count": 5,
   "metadata": {
    "colab": {
     "base_uri": "https://localhost:8080/",
     "height": 289
    },
    "executionInfo": {
     "elapsed": 520,
     "status": "ok",
     "timestamp": 1620463394374,
     "user": {
      "displayName": "Edoardo Botta",
      "photoUrl": "https://lh5.googleusercontent.com/-UojDHXmDI1A/AAAAAAAAAAI/AAAAAAAACtA/5WZY-iLk_YI/s64/photo.jpg",
      "userId": "07927463463192486003"
     },
     "user_tz": -120
    },
    "id": "VIEhwVOr7AbZ",
    "outputId": "544bfc20-927c-465c-9a2f-c25eedd9b766"
   },
   "outputs": [
    {
     "data": {
      "text/html": [
       "<div>\n",
       "<style scoped>\n",
       "    .dataframe tbody tr th:only-of-type {\n",
       "        vertical-align: middle;\n",
       "    }\n",
       "\n",
       "    .dataframe tbody tr th {\n",
       "        vertical-align: top;\n",
       "    }\n",
       "\n",
       "    .dataframe thead th {\n",
       "        text-align: right;\n",
       "    }\n",
       "</style>\n",
       "<table border=\"1\" class=\"dataframe\">\n",
       "  <thead>\n",
       "    <tr style=\"text-align: right;\">\n",
       "      <th></th>\n",
       "      <th>UNIXTime</th>\n",
       "      <th>Data</th>\n",
       "      <th>Time</th>\n",
       "      <th>Radiation</th>\n",
       "      <th>Temperature</th>\n",
       "      <th>Pressure</th>\n",
       "      <th>Humidity</th>\n",
       "      <th>WindDirection(Degrees)</th>\n",
       "      <th>Speed</th>\n",
       "      <th>TimeSunRise</th>\n",
       "      <th>TimeSunSet</th>\n",
       "    </tr>\n",
       "  </thead>\n",
       "  <tbody>\n",
       "    <tr>\n",
       "      <th>0</th>\n",
       "      <td>1479051004</td>\n",
       "      <td>11/13/2016 12:00:00 AM</td>\n",
       "      <td>05:30:04</td>\n",
       "      <td>1.19</td>\n",
       "      <td>44</td>\n",
       "      <td>30.44</td>\n",
       "      <td>55</td>\n",
       "      <td>171.19</td>\n",
       "      <td>4.50</td>\n",
       "      <td>06:30:00</td>\n",
       "      <td>17:44:00</td>\n",
       "    </tr>\n",
       "    <tr>\n",
       "      <th>1</th>\n",
       "      <td>1478606702</td>\n",
       "      <td>11/8/2016 12:00:00 AM</td>\n",
       "      <td>02:05:02</td>\n",
       "      <td>1.21</td>\n",
       "      <td>45</td>\n",
       "      <td>30.41</td>\n",
       "      <td>40</td>\n",
       "      <td>109.97</td>\n",
       "      <td>4.50</td>\n",
       "      <td>06:27:00</td>\n",
       "      <td>17:45:00</td>\n",
       "    </tr>\n",
       "    <tr>\n",
       "      <th>2</th>\n",
       "      <td>1482031817</td>\n",
       "      <td>12/17/2016 12:00:00 AM</td>\n",
       "      <td>17:30:17</td>\n",
       "      <td>3.22</td>\n",
       "      <td>51</td>\n",
       "      <td>30.26</td>\n",
       "      <td>92</td>\n",
       "      <td>113.37</td>\n",
       "      <td>3.37</td>\n",
       "      <td>06:51:00</td>\n",
       "      <td>17:47:00</td>\n",
       "    </tr>\n",
       "    <tr>\n",
       "      <th>3</th>\n",
       "      <td>1482747940</td>\n",
       "      <td>12/26/2016 12:00:00 AM</td>\n",
       "      <td>00:25:40</td>\n",
       "      <td>1.21</td>\n",
       "      <td>44</td>\n",
       "      <td>30.45</td>\n",
       "      <td>102</td>\n",
       "      <td>76.27</td>\n",
       "      <td>4.50</td>\n",
       "      <td>06:55:00</td>\n",
       "      <td>17:51:00</td>\n",
       "    </tr>\n",
       "    <tr>\n",
       "      <th>4</th>\n",
       "      <td>1476884417</td>\n",
       "      <td>10/19/2016 12:00:00 AM</td>\n",
       "      <td>03:40:17</td>\n",
       "      <td>1.22</td>\n",
       "      <td>48</td>\n",
       "      <td>30.42</td>\n",
       "      <td>69</td>\n",
       "      <td>167.43</td>\n",
       "      <td>9.00</td>\n",
       "      <td>06:19:00</td>\n",
       "      <td>17:56:00</td>\n",
       "    </tr>\n",
       "  </tbody>\n",
       "</table>\n",
       "</div>"
      ],
      "text/plain": [
       "     UNIXTime                    Data      Time  ...  Speed  TimeSunRise  TimeSunSet\n",
       "0  1479051004  11/13/2016 12:00:00 AM  05:30:04  ...   4.50     06:30:00    17:44:00\n",
       "1  1478606702   11/8/2016 12:00:00 AM  02:05:02  ...   4.50     06:27:00    17:45:00\n",
       "2  1482031817  12/17/2016 12:00:00 AM  17:30:17  ...   3.37     06:51:00    17:47:00\n",
       "3  1482747940  12/26/2016 12:00:00 AM  00:25:40  ...   4.50     06:55:00    17:51:00\n",
       "4  1476884417  10/19/2016 12:00:00 AM  03:40:17  ...   9.00     06:19:00    17:56:00\n",
       "\n",
       "[5 rows x 11 columns]"
      ]
     },
     "execution_count": 5,
     "metadata": {
      "tags": []
     },
     "output_type": "execute_result"
    }
   ],
   "source": [
    "train.head()"
   ]
  },
  {
   "cell_type": "code",
   "execution_count": 6,
   "metadata": {
    "colab": {
     "base_uri": "https://localhost:8080/",
     "height": 296
    },
    "executionInfo": {
     "elapsed": 500,
     "status": "ok",
     "timestamp": 1620463394961,
     "user": {
      "displayName": "Edoardo Botta",
      "photoUrl": "https://lh5.googleusercontent.com/-UojDHXmDI1A/AAAAAAAAAAI/AAAAAAAACtA/5WZY-iLk_YI/s64/photo.jpg",
      "userId": "07927463463192486003"
     },
     "user_tz": -120
    },
    "id": "rD-hN7hw7Abc",
    "outputId": "601fc5c3-e412-4f24-88ad-cb00b3d6bcd5"
   },
   "outputs": [
    {
     "data": {
      "text/html": [
       "<div>\n",
       "<style scoped>\n",
       "    .dataframe tbody tr th:only-of-type {\n",
       "        vertical-align: middle;\n",
       "    }\n",
       "\n",
       "    .dataframe tbody tr th {\n",
       "        vertical-align: top;\n",
       "    }\n",
       "\n",
       "    .dataframe thead th {\n",
       "        text-align: right;\n",
       "    }\n",
       "</style>\n",
       "<table border=\"1\" class=\"dataframe\">\n",
       "  <thead>\n",
       "    <tr style=\"text-align: right;\">\n",
       "      <th></th>\n",
       "      <th>UNIXTime</th>\n",
       "      <th>Radiation</th>\n",
       "      <th>Temperature</th>\n",
       "      <th>Pressure</th>\n",
       "      <th>Humidity</th>\n",
       "      <th>WindDirection(Degrees)</th>\n",
       "      <th>Speed</th>\n",
       "    </tr>\n",
       "  </thead>\n",
       "  <tbody>\n",
       "    <tr>\n",
       "      <th>count</th>\n",
       "      <td>3.105100e+04</td>\n",
       "      <td>31051.000000</td>\n",
       "      <td>31051.000000</td>\n",
       "      <td>31051.000000</td>\n",
       "      <td>31051.000000</td>\n",
       "      <td>31051.000000</td>\n",
       "      <td>31051.000000</td>\n",
       "    </tr>\n",
       "    <tr>\n",
       "      <th>mean</th>\n",
       "      <td>1.478044e+09</td>\n",
       "      <td>207.032862</td>\n",
       "      <td>51.106631</td>\n",
       "      <td>30.422832</td>\n",
       "      <td>75.021545</td>\n",
       "      <td>143.428964</td>\n",
       "      <td>6.244306</td>\n",
       "    </tr>\n",
       "    <tr>\n",
       "      <th>std</th>\n",
       "      <td>3.005559e+06</td>\n",
       "      <td>315.904121</td>\n",
       "      <td>6.194944</td>\n",
       "      <td>0.054617</td>\n",
       "      <td>25.992570</td>\n",
       "      <td>83.150255</td>\n",
       "      <td>3.496223</td>\n",
       "    </tr>\n",
       "    <tr>\n",
       "      <th>min</th>\n",
       "      <td>1.472724e+09</td>\n",
       "      <td>1.130000</td>\n",
       "      <td>34.000000</td>\n",
       "      <td>30.190000</td>\n",
       "      <td>8.000000</td>\n",
       "      <td>0.090000</td>\n",
       "      <td>0.000000</td>\n",
       "    </tr>\n",
       "    <tr>\n",
       "      <th>25%</th>\n",
       "      <td>1.475541e+09</td>\n",
       "      <td>1.230000</td>\n",
       "      <td>46.000000</td>\n",
       "      <td>30.400000</td>\n",
       "      <td>56.000000</td>\n",
       "      <td>82.170000</td>\n",
       "      <td>3.370000</td>\n",
       "    </tr>\n",
       "    <tr>\n",
       "      <th>50%</th>\n",
       "      <td>1.478015e+09</td>\n",
       "      <td>2.660000</td>\n",
       "      <td>50.000000</td>\n",
       "      <td>30.430000</td>\n",
       "      <td>85.000000</td>\n",
       "      <td>147.660000</td>\n",
       "      <td>5.620000</td>\n",
       "    </tr>\n",
       "    <tr>\n",
       "      <th>75%</th>\n",
       "      <td>1.480480e+09</td>\n",
       "      <td>353.745000</td>\n",
       "      <td>55.000000</td>\n",
       "      <td>30.460000</td>\n",
       "      <td>97.000000</td>\n",
       "      <td>179.280000</td>\n",
       "      <td>7.870000</td>\n",
       "    </tr>\n",
       "    <tr>\n",
       "      <th>max</th>\n",
       "      <td>1.483265e+09</td>\n",
       "      <td>1601.260000</td>\n",
       "      <td>71.000000</td>\n",
       "      <td>30.560000</td>\n",
       "      <td>103.000000</td>\n",
       "      <td>359.950000</td>\n",
       "      <td>40.500000</td>\n",
       "    </tr>\n",
       "  </tbody>\n",
       "</table>\n",
       "</div>"
      ],
      "text/plain": [
       "           UNIXTime     Radiation  ...  WindDirection(Degrees)         Speed\n",
       "count  3.105100e+04  31051.000000  ...            31051.000000  31051.000000\n",
       "mean   1.478044e+09    207.032862  ...              143.428964      6.244306\n",
       "std    3.005559e+06    315.904121  ...               83.150255      3.496223\n",
       "min    1.472724e+09      1.130000  ...                0.090000      0.000000\n",
       "25%    1.475541e+09      1.230000  ...               82.170000      3.370000\n",
       "50%    1.478015e+09      2.660000  ...              147.660000      5.620000\n",
       "75%    1.480480e+09    353.745000  ...              179.280000      7.870000\n",
       "max    1.483265e+09   1601.260000  ...              359.950000     40.500000\n",
       "\n",
       "[8 rows x 7 columns]"
      ]
     },
     "execution_count": 6,
     "metadata": {
      "tags": []
     },
     "output_type": "execute_result"
    }
   ],
   "source": [
    "train.describe()"
   ]
  },
  {
   "cell_type": "code",
   "execution_count": 7,
   "metadata": {
    "colab": {
     "base_uri": "https://localhost:8080/"
    },
    "executionInfo": {
     "elapsed": 764,
     "status": "ok",
     "timestamp": 1620463396227,
     "user": {
      "displayName": "Edoardo Botta",
      "photoUrl": "https://lh5.googleusercontent.com/-UojDHXmDI1A/AAAAAAAAAAI/AAAAAAAACtA/5WZY-iLk_YI/s64/photo.jpg",
      "userId": "07927463463192486003"
     },
     "user_tz": -120
    },
    "id": "60Uxc3-iFKgQ",
    "outputId": "352f2daf-b571-436c-ad8d-28e2de70935f"
   },
   "outputs": [
    {
     "data": {
      "text/plain": [
       "0"
      ]
     },
     "execution_count": 7,
     "metadata": {
      "tags": []
     },
     "output_type": "execute_result"
    }
   ],
   "source": [
    "(train.isnull().sum()).sum()"
   ]
  },
  {
   "cell_type": "code",
   "execution_count": 8,
   "metadata": {
    "colab": {
     "base_uri": "https://localhost:8080/",
     "height": 499
    },
    "executionInfo": {
     "elapsed": 1822,
     "status": "ok",
     "timestamp": 1620463815698,
     "user": {
      "displayName": "Edoardo Botta",
      "photoUrl": "https://lh5.googleusercontent.com/-UojDHXmDI1A/AAAAAAAAAAI/AAAAAAAACtA/5WZY-iLk_YI/s64/photo.jpg",
      "userId": "07927463463192486003"
     },
     "user_tz": -120
    },
    "id": "OOc4SIL47Abd",
    "outputId": "e384758b-88fe-4d17-8807-057df8fe8561"
   },
   "outputs": [
    {
     "data": {
      "image/png": "[encoded data removed]",
      "text/plain": [
       "<Figure size 576x576 with 9 Axes>"
      ]
     },
     "metadata": {
      "needs_background": "light",
      "tags": []
     },
     "output_type": "display_data"
    }
   ],
   "source": [
    "train.hist(figsize=[8,8])\n",
    "plt.show()"
   ]
  },
  {
   "cell_type": "code",
   "execution_count": 9,
   "metadata": {
    "colab": {
     "base_uri": "https://localhost:8080/"
    },
    "executionInfo": {
     "elapsed": 1241,
     "status": "ok",
     "timestamp": 1620463399016,
     "user": {
      "displayName": "Edoardo Botta",
      "photoUrl": "https://lh5.googleusercontent.com/-UojDHXmDI1A/AAAAAAAAAAI/AAAAAAAACtA/5WZY-iLk_YI/s64/photo.jpg",
      "userId": "07927463463192486003"
     },
     "user_tz": -120
    },
    "id": "jQNzpVOFFXwu",
    "outputId": "d8c97f15-b2d1-4684-ef0e-af2c0dca6e93"
   },
   "outputs": [
    {
     "data": {
      "text/plain": [
       "Radiation                 1.000000\n",
       "Temperature               0.735168\n",
       "Pressure                  0.118075\n",
       "Speed                     0.074403\n",
       "UNIXTime                 -0.082560\n",
       "Humidity                 -0.225064\n",
       "WindDirection(Degrees)   -0.232061\n",
       "Name: Radiation, dtype: float64"
      ]
     },
     "execution_count": 9,
     "metadata": {
      "tags": []
     },
     "output_type": "execute_result"
    }
   ],
   "source": [
    "train.corr()[\"Radiation\"].sort_values(ascending = False)"
   ]
  },
  {
   "cell_type": "code",
   "execution_count": 10,
   "metadata": {
    "colab": {
     "base_uri": "https://localhost:8080/",
     "height": 460
    },
    "executionInfo": {
     "elapsed": 1242,
     "status": "ok",
     "timestamp": 1620464830833,
     "user": {
      "displayName": "Edoardo Botta",
      "photoUrl": "https://lh5.googleusercontent.com/-UojDHXmDI1A/AAAAAAAAAAI/AAAAAAAACtA/5WZY-iLk_YI/s64/photo.jpg",
      "userId": "07927463463192486003"
     },
     "user_tz": -120
    },
    "id": "0FAXcS47bVM9",
    "outputId": "c5a3b9fb-bfa7-42b3-c216-7abbf59387dd"
   },
   "outputs": [
    {
     "name": "stderr",
     "output_type": "stream",
     "text": [
      "/usr/local/lib/python3.7/dist-packages/seaborn/distributions.py:2557: FutureWarning: `distplot` is a deprecated function and will be removed in a future version. Please adapt your code to use either `displot` (a figure-level function with similar flexibility) or `histplot` (an axes-level function for histograms).\n",
      "  warnings.warn(msg, FutureWarning)\n"
     ]
    },
    {
     "data": {
      "text/plain": [
       "(1.13, 1602.0)"
      ]
     },
     "execution_count": 10,
     "metadata": {
      "tags": []
     },
     "output_type": "execute_result"
    },
    {
     "data": {
      "image/png": "[encoded data removed]",
      "text/plain": [
       "<Figure size 432x432 with 1 Axes>"
      ]
     },
     "metadata": {
      "needs_background": "light",
      "tags": []
     },
     "output_type": "display_data"
    }
   ],
   "source": [
    "f, ax = plt.subplots(figsize=(6,6))\n",
    "sns.distplot(train['Radiation'])\n",
    "plt.xlim([1.13,1602])"
   ]
  },
  {
   "cell_type": "markdown",
   "metadata": {
    "id": "rtvd5CQ7F62_"
   },
   "source": [
    "We realized that all the measurement of time were taken in a timezone 10 hours ahead of the utc time, which corresponds to the Hawaiian time. "
   ]
  },
  {
   "cell_type": "code",
   "execution_count": 11,
   "metadata": {
    "executionInfo": {
     "elapsed": 494,
     "status": "ok",
     "timestamp": 1620463402558,
     "user": {
      "displayName": "Edoardo Botta",
      "photoUrl": "https://lh5.googleusercontent.com/-UojDHXmDI1A/AAAAAAAAAAI/AAAAAAAACtA/5WZY-iLk_YI/s64/photo.jpg",
      "userId": "07927463463192486003"
     },
     "user_tz": -120
    },
    "id": "31_MPtrR7Abe"
   },
   "outputs": [],
   "source": [
    "def get_date(s):\n",
    "    l = s.split()\n",
    "    return l[0]"
   ]
  },
  {
   "cell_type": "code",
   "execution_count": 12,
   "metadata": {
    "executionInfo": {
     "elapsed": 4575,
     "status": "ok",
     "timestamp": 1620463407331,
     "user": {
      "displayName": "Edoardo Botta",
      "photoUrl": "https://lh5.googleusercontent.com/-UojDHXmDI1A/AAAAAAAAAAI/AAAAAAAACtA/5WZY-iLk_YI/s64/photo.jpg",
      "userId": "07927463463192486003"
     },
     "user_tz": -120
    },
    "id": "-XNF4QUG7Abf"
   },
   "outputs": [],
   "source": [
    "datetime_local = (train['Data'].apply(get_date) + ' ' + train['Time']).apply(pd.Timestamp)"
   ]
  },
  {
   "cell_type": "code",
   "execution_count": 13,
   "metadata": {
    "executionInfo": {
     "elapsed": 4119,
     "status": "ok",
     "timestamp": 1620463407332,
     "user": {
      "displayName": "Edoardo Botta",
      "photoUrl": "https://lh5.googleusercontent.com/-UojDHXmDI1A/AAAAAAAAAAI/AAAAAAAACtA/5WZY-iLk_YI/s64/photo.jpg",
      "userId": "07927463463192486003"
     },
     "user_tz": -120
    },
    "id": "SVTq36mD7Abg"
   },
   "outputs": [],
   "source": [
    "datetime_utc = train['UNIXTime'].apply(datetime.datetime.utcfromtimestamp)"
   ]
  },
  {
   "cell_type": "code",
   "execution_count": 14,
   "metadata": {
    "colab": {
     "base_uri": "https://localhost:8080/"
    },
    "executionInfo": {
     "elapsed": 3655,
     "status": "ok",
     "timestamp": 1620463407334,
     "user": {
      "displayName": "Edoardo Botta",
      "photoUrl": "https://lh5.googleusercontent.com/-UojDHXmDI1A/AAAAAAAAAAI/AAAAAAAACtA/5WZY-iLk_YI/s64/photo.jpg",
      "userId": "07927463463192486003"
     },
     "user_tz": -120
    },
    "id": "LGCcpEoa7Abh",
    "outputId": "c4ff431a-1386-41bf-cc21-b2648c3dce4c"
   },
   "outputs": [
    {
     "data": {
      "text/plain": [
       "0 days 10:00:00    31051\n",
       "dtype: int64"
      ]
     },
     "execution_count": 14,
     "metadata": {
      "tags": []
     },
     "output_type": "execute_result"
    }
   ],
   "source": [
    "(datetime_utc - datetime_local).value_counts()"
   ]
  },
  {
   "cell_type": "markdown",
   "metadata": {
    "id": "_50uG2pYNSdm"
   },
   "source": [
    "# Feature Engineering\n",
    "\n",
    "We noticed that time was represented with several columns in the dataset. In order to be able to use the Time measurement, the TimeSunRise and TimeSunSet, we converted all those time columns to the seconds elapsed from the midnight of the current day.\n",
    "We kept UNIXTime as an absolute representation and we extracted a relative representation, with respect to sunrise and sunset. Hence, we created a new column called TimeFromSunRise. The data of this column represents the spread in seconds between the data collection and the sunrise, a negative value represents an event before sunrise and a positive value represents an event happened after it. We did the same with TimeFromSunSet. We then dropped the original columns, because all the relevant information is contained in the two newly created columns."
   ]
  },
  {
   "cell_type": "code",
   "execution_count": 15,
   "metadata": {
    "executionInfo": {
     "elapsed": 772,
     "status": "ok",
     "timestamp": 1620463408109,
     "user": {
      "displayName": "Edoardo Botta",
      "photoUrl": "https://lh5.googleusercontent.com/-UojDHXmDI1A/AAAAAAAAAAI/AAAAAAAACtA/5WZY-iLk_YI/s64/photo.jpg",
      "userId": "07927463463192486003"
     },
     "user_tz": -120
    },
    "id": "EtQhHub9nLEs"
   },
   "outputs": [],
   "source": [
    "def time_to_seconds(s):\n",
    "    dt = datetime.datetime.strptime(s, \"%H:%M:%S\") - datetime.datetime(1900,1,1)\n",
    "    return dt.total_seconds()"
   ]
  },
  {
   "cell_type": "code",
   "execution_count": 16,
   "metadata": {
    "executionInfo": {
     "elapsed": 1644,
     "status": "ok",
     "timestamp": 1620463409192,
     "user": {
      "displayName": "Edoardo Botta",
      "photoUrl": "https://lh5.googleusercontent.com/-UojDHXmDI1A/AAAAAAAAAAI/AAAAAAAACtA/5WZY-iLk_YI/s64/photo.jpg",
      "userId": "07927463463192486003"
     },
     "user_tz": -120
    },
    "id": "pqbG4gBGNfZA"
   },
   "outputs": [],
   "source": [
    "train[\"Time\"] = train[\"Time\"].apply(time_to_seconds)\n",
    "train[\"TimeSunRise\"] = train[\"TimeSunRise\"].apply(time_to_seconds)\n",
    "train[\"TimeSunSet\"] = train[\"TimeSunSet\"].apply(time_to_seconds)\n",
    "train['TimeFromSunRise'] = train['Time'] - train['TimeSunRise']\n",
    "train['TimeFromSunSet'] = train['Time'] - train['TimeSunSet']\n",
    "train.drop(columns=['Time', 'TimeSunRise', 'TimeSunSet', 'Data'], inplace=True)"
   ]
  },
  {
   "cell_type": "markdown",
   "metadata": {
    "id": "C88H-2GCyigP"
   },
   "source": [
    "# Model Selection and Tuning\n",
    "\n",
    "We performed a preliminary evaluation of some of the possible models to get a benchmark and tree-based models seemed a suitable choice for the problem."
   ]
  },
  {
   "cell_type": "code",
   "execution_count": 17,
   "metadata": {
    "colab": {
     "base_uri": "https://localhost:8080/"
    },
    "executionInfo": {
     "elapsed": 20816,
     "status": "ok",
     "timestamp": 1620421746632,
     "user": {
      "displayName": "Edoardo Botta",
      "photoUrl": "https://lh5.googleusercontent.com/-UojDHXmDI1A/AAAAAAAAAAI/AAAAAAAACtA/5WZY-iLk_YI/s64/photo.jpg",
      "userId": "07927463463192486003"
     },
     "user_tz": -120
    },
    "id": "eH9tB55Wvpod",
    "outputId": "3800fe2c-553c-497c-e3b5-28f1cda1a9a4"
   },
   "outputs": [
    {
     "name": "stdout",
     "output_type": "stream",
     "text": [
      "MSE LinearRegression: 37329.80942877854\n",
      "[21:08:47] WARNING: /workspace/src/objective/regression_obj.cu:152: reg:linear is now deprecated in favor of reg:squarederror.\n",
      "MSE XGBRegressor: 10947.560779448626\n",
      "MSE RandomForestRegressor: 6337.97540160891\n"
     ]
    }
   ],
   "source": [
    "X_train, X_test, y_train, y_test = train_test_split(train.drop(columns='Radiation'), train['Radiation'], test_size = 0.2, random_state = 42)\n",
    "regressors = [LinearRegression(),\n",
    "              XGBRegressor(),\n",
    "              RandomForestRegressor()]\n",
    "\n",
    "for model in regressors:\n",
    "    model.fit(X_train, y_train)\n",
    "    predictions = model.predict(X_test)\n",
    "    error = mean_squared_error(y_test, predictions)\n",
    "    print(f'MSE {type(model).__name__}: {error}')"
   ]
  },
  {
   "cell_type": "markdown",
   "metadata": {
    "id": "ghgeUiuyq5Ao"
   },
   "source": [
    "Given the smaller MSE we got with XGBoost and Random Forest, we proceeded with the tuning of these two models. However, from the output below, we realised that the fifth and sixth features corresponding to WindDirection(Degrees) and Speed have significantly lower impact on the result compared to the other features. We inferred that wind data may not be that relevant in estimating solar radiation, hence we dropped those columns."
   ]
  },
  {
   "cell_type": "code",
   "execution_count": 18,
   "metadata": {
    "colab": {
     "base_uri": "https://localhost:8080/"
    },
    "executionInfo": {
     "elapsed": 919,
     "status": "ok",
     "timestamp": 1620307974021,
     "user": {
      "displayName": "Edoardo Botta",
      "photoUrl": "https://lh5.googleusercontent.com/-UojDHXmDI1A/AAAAAAAAAAI/AAAAAAAACtA/5WZY-iLk_YI/s64/photo.jpg",
      "userId": "07927463463192486003"
     },
     "user_tz": -120
    },
    "id": "ls5ZnfhY39O7",
    "outputId": "ef82b3c1-fcf4-4f50-954d-2a59b77e388e"
   },
   "outputs": [
    {
     "data": {
      "text/plain": [
       "array([0.04429757, 0.52666752, 0.01435791, 0.04360323, 0.04134855,\n",
       "       0.00654623, 0.20099099, 0.12218801])"
      ]
     },
     "execution_count": 18,
     "metadata": {
      "tags": []
     },
     "output_type": "execute_result"
    }
   ],
   "source": [
    "random_forest.feature_importances_ "
   ]
  },
  {
   "cell_type": "code",
   "execution_count": 19,
   "metadata": {
    "colab": {
     "base_uri": "https://localhost:8080/"
    },
    "executionInfo": {
     "elapsed": 716,
     "status": "ok",
     "timestamp": 1620307977596,
     "user": {
      "displayName": "Edoardo Botta",
      "photoUrl": "https://lh5.googleusercontent.com/-UojDHXmDI1A/AAAAAAAAAAI/AAAAAAAACtA/5WZY-iLk_YI/s64/photo.jpg",
      "userId": "07927463463192486003"
     },
     "user_tz": -120
    },
    "id": "FuXThEg84ROD",
    "outputId": "7ab558a7-4765-4024-ae7b-0c4552582ef4"
   },
   "outputs": [
    {
     "data": {
      "text/plain": [
       "array([0.0120017 , 0.7728354 , 0.01003255, 0.02065095, 0.00603164,\n",
       "       0.00464296, 0.1046446 , 0.06916027], dtype=float32)"
      ]
     },
     "execution_count": 19,
     "metadata": {
      "tags": []
     },
     "output_type": "execute_result"
    }
   ],
   "source": [
    "xgb.feature_importances_"
   ]
  },
  {
   "cell_type": "code",
   "execution_count": 20,
   "metadata": {
    "executionInfo": {
     "elapsed": 483,
     "status": "ok",
     "timestamp": 1620463418182,
     "user": {
      "displayName": "Edoardo Botta",
      "photoUrl": "https://lh5.googleusercontent.com/-UojDHXmDI1A/AAAAAAAAAAI/AAAAAAAACtA/5WZY-iLk_YI/s64/photo.jpg",
      "userId": "07927463463192486003"
     },
     "user_tz": -120
    },
    "id": "8cBfvWl7P8py"
   },
   "outputs": [],
   "source": [
    "features = train.drop(columns=['Radiation', 'WindDirection(Degrees)', 'Speed'])\n",
    "target = train['Radiation']"
   ]
  },
  {
   "cell_type": "markdown",
   "metadata": {
    "id": "IwaVKzZcHjKq"
   },
   "source": [
    "The models will be trained on this dataset:"
   ]
  },
  {
   "cell_type": "code",
   "execution_count": 21,
   "metadata": {
    "colab": {
     "base_uri": "https://localhost:8080/",
     "height": 203
    },
    "executionInfo": {
     "elapsed": 503,
     "status": "ok",
     "timestamp": 1620463421282,
     "user": {
      "displayName": "Edoardo Botta",
      "photoUrl": "https://lh5.googleusercontent.com/-UojDHXmDI1A/AAAAAAAAAAI/AAAAAAAACtA/5WZY-iLk_YI/s64/photo.jpg",
      "userId": "07927463463192486003"
     },
     "user_tz": -120
    },
    "id": "x5OA5nHTHdKc",
    "outputId": "91a86615-bbf1-4224-daa0-6cf4bddf3d76"
   },
   "outputs": [
    {
     "data": {
      "text/html": [
       "<div>\n",
       "<style scoped>\n",
       "    .dataframe tbody tr th:only-of-type {\n",
       "        vertical-align: middle;\n",
       "    }\n",
       "\n",
       "    .dataframe tbody tr th {\n",
       "        vertical-align: top;\n",
       "    }\n",
       "\n",
       "    .dataframe thead th {\n",
       "        text-align: right;\n",
       "    }\n",
       "</style>\n",
       "<table border=\"1\" class=\"dataframe\">\n",
       "  <thead>\n",
       "    <tr style=\"text-align: right;\">\n",
       "      <th></th>\n",
       "      <th>UNIXTime</th>\n",
       "      <th>Temperature</th>\n",
       "      <th>Pressure</th>\n",
       "      <th>Humidity</th>\n",
       "      <th>TimeFromSunRise</th>\n",
       "      <th>TimeFromSunSet</th>\n",
       "    </tr>\n",
       "  </thead>\n",
       "  <tbody>\n",
       "    <tr>\n",
       "      <th>0</th>\n",
       "      <td>1479051004</td>\n",
       "      <td>44</td>\n",
       "      <td>30.44</td>\n",
       "      <td>55</td>\n",
       "      <td>-3596.0</td>\n",
       "      <td>-44036.0</td>\n",
       "    </tr>\n",
       "    <tr>\n",
       "      <th>1</th>\n",
       "      <td>1478606702</td>\n",
       "      <td>45</td>\n",
       "      <td>30.41</td>\n",
       "      <td>40</td>\n",
       "      <td>-15718.0</td>\n",
       "      <td>-56398.0</td>\n",
       "    </tr>\n",
       "    <tr>\n",
       "      <th>2</th>\n",
       "      <td>1482031817</td>\n",
       "      <td>51</td>\n",
       "      <td>30.26</td>\n",
       "      <td>92</td>\n",
       "      <td>38357.0</td>\n",
       "      <td>-1003.0</td>\n",
       "    </tr>\n",
       "    <tr>\n",
       "      <th>3</th>\n",
       "      <td>1482747940</td>\n",
       "      <td>44</td>\n",
       "      <td>30.45</td>\n",
       "      <td>102</td>\n",
       "      <td>-23360.0</td>\n",
       "      <td>-62720.0</td>\n",
       "    </tr>\n",
       "    <tr>\n",
       "      <th>4</th>\n",
       "      <td>1476884417</td>\n",
       "      <td>48</td>\n",
       "      <td>30.42</td>\n",
       "      <td>69</td>\n",
       "      <td>-9523.0</td>\n",
       "      <td>-51343.0</td>\n",
       "    </tr>\n",
       "  </tbody>\n",
       "</table>\n",
       "</div>"
      ],
      "text/plain": [
       "     UNIXTime  Temperature  Pressure  Humidity  TimeFromSunRise  TimeFromSunSet\n",
       "0  1479051004           44     30.44        55          -3596.0        -44036.0\n",
       "1  1478606702           45     30.41        40         -15718.0        -56398.0\n",
       "2  1482031817           51     30.26        92          38357.0         -1003.0\n",
       "3  1482747940           44     30.45       102         -23360.0        -62720.0\n",
       "4  1476884417           48     30.42        69          -9523.0        -51343.0"
      ]
     },
     "execution_count": 21,
     "metadata": {
      "tags": []
     },
     "output_type": "execute_result"
    }
   ],
   "source": [
    "features.head()"
   ]
  },
  {
   "cell_type": "code",
   "execution_count": 22,
   "metadata": {
    "id": "fSDbzXV9MI39"
   },
   "outputs": [],
   "source": [
    "#RANDOM FOREST TUNING:\n",
    "param_grid = {'n_estimators': np.arange(500, 700, 10),\n",
    "              'max_depth': np.arange(4, 21),\n",
    "              'min_samples_split': [0.001, 0.01, 0.1, 2],\n",
    "              'min_samples_leaf': [0.001, 0.01, 0.1, 1],\n",
    "              'max_features': np.arange(3, 7), \n",
    "              'n_jobs': [-1]\n",
    "              }\n",
    "\n",
    "rf = RandomForestRegressor()\n",
    "random_search = RandomizedSearchCV(rf, param_distributions=param_grid, n_iter=25, scoring='neg_mean_squared_error', n_jobs=-1, refit=False)\n",
    "random_search.fit(features, target)"
   ]
  },
  {
   "cell_type": "code",
   "execution_count": 23,
   "metadata": {
    "id": "boDNGuCl-5fz"
   },
   "outputs": [],
   "source": [
    "# XGB TUNING:\n",
    "param_grid = {'learning_rate': np.arange(0.01, 0.1, 0.01),\n",
    "              'n_estimators': np.arange(2, 500, 10), \n",
    "              'subsample': [0.7, 0.8, 0.9, 1.0],\n",
    "              'max_depth': np.arange(4,21), \n",
    "              'min_samples_split': [0.001, 0.01, 0.1, 2],\n",
    "              'min_samples_leaf': [0.001, 0.01, 0.1, 1],\n",
    "              'n_jobs': [-1]\n",
    "              }\n",
    "\n",
    "xgb = XGBRegressor()\n",
    "random_search = RandomizedSearchCV(xgb, param_distributions=param_grid, n_iter=30, scoring='neg_mean_squared_error', n_jobs=-1, refit=False)\n",
    "random_search.fit(features, target)"
   ]
  },
  {
   "cell_type": "code",
   "execution_count": 24,
   "metadata": {
    "executionInfo": {
     "elapsed": 517,
     "status": "ok",
     "timestamp": 1620463519977,
     "user": {
      "displayName": "Edoardo Botta",
      "photoUrl": "https://lh5.googleusercontent.com/-UojDHXmDI1A/AAAAAAAAAAI/AAAAAAAACtA/5WZY-iLk_YI/s64/photo.jpg",
      "userId": "07927463463192486003"
     },
     "user_tz": -120
    },
    "id": "AK0-VV-Fcf9K"
   },
   "outputs": [],
   "source": [
    "# Tuned Models:\n",
    "rf = RandomForestRegressor(n_estimators = 550,\n",
    "                           max_depth = 19,\n",
    "                           max_features = 3,\n",
    "                           random_state = 42,\n",
    "                           n_jobs = -1)\n",
    "\n",
    "xgb = XGBRegressor(learning_rate = 0.06, \n",
    "                   estimators = 2, \n",
    "                   max_depth = 11, \n",
    "                   min_samples_leaf = 1, \n",
    "                   min_samples_split = 0.001, \n",
    "                   subsample = 0.7)"
   ]
  },
  {
   "cell_type": "markdown",
   "metadata": {
    "id": "FOgsX6sTEbun"
   },
   "source": [
    "# Performance Evaluation\n",
    "\n",
    "The evaluation of the performance was carried out through 5-fold cross-validation. The tuned models performed similarly on average, but slightly differently on individual folds. We resorted to ensemble models to reduce such variance. "
   ]
  },
  {
   "cell_type": "code",
   "execution_count": 25,
   "metadata": {
    "executionInfo": {
     "elapsed": 505,
     "status": "ok",
     "timestamp": 1620463523526,
     "user": {
      "displayName": "Edoardo Botta",
      "photoUrl": "https://lh5.googleusercontent.com/-UojDHXmDI1A/AAAAAAAAAAI/AAAAAAAACtA/5WZY-iLk_YI/s64/photo.jpg",
      "userId": "07927463463192486003"
     },
     "user_tz": -120
    },
    "id": "iysuYiEql0ef"
   },
   "outputs": [],
   "source": [
    "estimators = [('rf', rf), ('xgb', xgb)]\n",
    "kf = KFold(shuffle=True, random_state=42)"
   ]
  },
  {
   "cell_type": "code",
   "execution_count": 26,
   "metadata": {
    "colab": {
     "base_uri": "https://localhost:8080/"
    },
    "executionInfo": {
     "elapsed": 166179,
     "status": "ok",
     "timestamp": 1620404494846,
     "user": {
      "displayName": "Edoardo Botta",
      "photoUrl": "https://lh5.googleusercontent.com/-UojDHXmDI1A/AAAAAAAAAAI/AAAAAAAACtA/5WZY-iLk_YI/s64/photo.jpg",
      "userId": "07927463463192486003"
     },
     "user_tz": -120
    },
    "id": "Io25uUSfCFWW",
    "outputId": "78810780-6c4c-45f7-bb47-83f40cb8be8a"
   },
   "outputs": [
    {
     "name": "stdout",
     "output_type": "stream",
     "text": [
      "RandomForestRegressor: scores: [-5805.08689299 -5678.18160476 -5457.42742249 -5785.62709706\n",
      " -6150.77549273], avg: -5775.419702004989\n",
      "XGBRegressor: scores: [-5922.18257052 -5581.86767986 -5461.14508537 -5803.76775836\n",
      " -6066.7315909 ], avg: -5767.138936998545\n"
     ]
    }
   ],
   "source": [
    "for _, estimator in estimators:\n",
    "    scores = cross_val_score(estimator, features, target, scoring='neg_mean_squared_error', cv=kf, n_jobs=-1)\n",
    "    print(f'{type(estimator).__name__}: scores: {scores}, avg: {np.mean(scores)}')"
   ]
  },
  {
   "cell_type": "markdown",
   "metadata": {
    "id": "4B57-MIrFRBZ"
   },
   "source": [
    "# Final Model\n",
    "\n",
    "We evaluated three ensemble estimators: \n",
    "\n",
    "*   Voting Regressor, averaging the predictions of base estimators\n",
    "*   Stacking Regressor, with Ridge Regression as final estimator\n",
    "*   Stacking Regressor, with Elastic Net Regression as final estimator\n",
    " \n",
    "Final results were satisfactory: this additional layer of ensemble led to a significant improvement with respect to individual models. The difference among the three was minimal and we chose Voting Regressor for our final submission. "
   ]
  },
  {
   "cell_type": "code",
   "execution_count": 27,
   "metadata": {
    "colab": {
     "base_uri": "https://localhost:8080/"
    },
    "executionInfo": {
     "elapsed": 1847972,
     "status": "ok",
     "timestamp": 1620406361411,
     "user": {
      "displayName": "Edoardo Botta",
      "photoUrl": "https://lh5.googleusercontent.com/-UojDHXmDI1A/AAAAAAAAAAI/AAAAAAAACtA/5WZY-iLk_YI/s64/photo.jpg",
      "userId": "07927463463192486003"
     },
     "user_tz": -120
    },
    "id": "R4G6GjrbVjhP",
    "outputId": "f1886e63-cd3e-4743-f53c-dd26f1c95665"
   },
   "outputs": [
    {
     "name": "stdout",
     "output_type": "stream",
     "text": [
      "VotingRegressor: scores: [-5757.47973803 -5533.29428142 -5366.29675692 -5700.56061714\n",
      " -6001.25745418], avg: -5671.777769537201\n"
     ]
    },
    {
     "name": "stderr",
     "output_type": "stream",
     "text": [
      "/usr/local/lib/python3.7/dist-packages/joblib/externals/loky/process_executor.py:691: UserWarning: A worker stopped while some jobs were given to the executor. This can be caused by a too short worker timeout or by a memory leak.\n",
      "  \"timeout or by a memory leak.\", UserWarning\n"
     ]
    },
    {
     "name": "stdout",
     "output_type": "stream",
     "text": [
      "StackingRegressor: scores: [-5797.98007144 -5524.04732098 -5373.9898584  -5705.0775772\n",
      " -5994.46318441], avg: -5679.111602486854\n",
      "StackingRegressor: scores: [-5781.44661537 -5526.47645416 -5368.24551806 -5701.17609721\n",
      " -5995.92586299], avg: -5674.65410955815\n"
     ]
    }
   ],
   "source": [
    "elastic_net = ElasticNetCV()\n",
    "ensemble_models = [VotingRegressor(estimators, n_jobs=-1),\n",
    "                   StackingRegressor(estimators, cv=kf, n_jobs=-1),\n",
    "                   StackingRegressor(estimators, elastic_net, cv=kf, n_jobs=-1)]\n",
    "\n",
    "for model in ensemble_models:\n",
    "    scores = cross_val_score(model, features, target, scoring='neg_mean_squared_error', cv=kf, n_jobs=-1)\n",
    "    print(f'{type(model).__name__}: scores: {scores}, avg: {np.mean(scores)}')"
   ]
  },
  {
   "cell_type": "code",
   "execution_count": 28,
   "metadata": {
    "id": "abwVvFnytfkj"
   },
   "outputs": [],
   "source": [
    "voting = VotingRegressor(estimators, n_jobs=-1)\n",
    "voting.fit(features, target)"
   ]
  },
  {
   "cell_type": "code",
   "execution_count": 29,
   "metadata": {
    "executionInfo": {
     "elapsed": 530,
     "status": "ok",
     "timestamp": 1620463580446,
     "user": {
      "displayName": "Edoardo Botta",
      "photoUrl": "https://lh5.googleusercontent.com/-UojDHXmDI1A/AAAAAAAAAAI/AAAAAAAACtA/5WZY-iLk_YI/s64/photo.jpg",
      "userId": "07927463463192486003"
     },
     "user_tz": -120
    },
    "id": "mppmbg3nsDbW"
   },
   "outputs": [],
   "source": [
    "test[\"Time\"] = test[\"Time\"].apply(time_to_seconds)\n",
    "test[\"TimeSunRise\"] = test[\"TimeSunRise\"].apply(time_to_seconds)\n",
    "test[\"TimeSunSet\"] = test[\"TimeSunSet\"].apply(time_to_seconds)\n",
    "test['TimeFromSunRise'] = test['Time'] - test['TimeSunRise']\n",
    "test['TimeFromSunSet'] = test['Time'] - test['TimeSunSet']\n",
    "test.drop(columns = ['Time', 'TimeSunRise', 'TimeSunSet', 'Data', 'WindDirection(Degrees)', 'Speed'], inplace=True)"
   ]
  },
  {
   "cell_type": "code",
   "execution_count": 30,
   "metadata": {
    "executionInfo": {
     "elapsed": 1087,
     "status": "ok",
     "timestamp": 1620463598995,
     "user": {
      "displayName": "Edoardo Botta",
      "photoUrl": "https://lh5.googleusercontent.com/-UojDHXmDI1A/AAAAAAAAAAI/AAAAAAAACtA/5WZY-iLk_YI/s64/photo.jpg",
      "userId": "07927463463192486003"
     },
     "user_tz": -120
    },
    "id": "pp-byMwQtTJt"
   },
   "outputs": [],
   "source": [
    "prediction = voting.predict(test)\n",
    "np.savetxt('BSDS_May_Profito_predictions.txt', prediction)"
   ]
  }
 ],
 "metadata": {
  "colab": {
   "collapsed_sections": [],
   "name": "BSDS_May_Profito.ipynb",
   "provenance": []
  },
  "kernelspec": {
   "display_name": "Python 3",
   "language": "python",
   "name": "python3"
  },
  "language_info": {
   "codemirror_mode": {
    "name": "ipython",
    "version": 3
   },
   "file_extension": ".py",
   "mimetype": "text/x-python",
   "name": "python",
   "nbconvert_exporter": "python",
   "pygments_lexer": "ipython3",
   "version": "3.7.10"
  }
 },
 "nbformat": 4,
 "nbformat_minor": 1
}
